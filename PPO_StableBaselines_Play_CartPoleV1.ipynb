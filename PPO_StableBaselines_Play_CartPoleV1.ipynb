{
  "cell_type": "markdown",
  "metadata": {
    "id": "view-in-github",
    "colab_type": "text"
  },
  "source": [
    "<a href=\"https://colab.research.google.com/github/ToiLaKiet/UIT-CS115/blob/main/PPO_StableBaselines_Play_CartPoleV1.ipynb\" target=\"_parent\"><img src=\"https://colab.research.google.com/assets/colab-badge.svg\" alt=\"Open In Colab\"/></a>"
  ]
},
{
  "cell_type": "code",
  "execution_count": null,
  "metadata": {
    "id": "gWskDE2c9WoN"
  },
  "outputs": [],
  "source": [
    "!apt-get install ffmpeg freeglut3-dev xvfb  # For visualization\n",
    "!pip install \"stable-baselines3[extra]>=2.0.0a4\""
  ]
},
{
  "cell_type": "markdown",
  "metadata": {
    "id": "FtY8FhliLsGm"
  },
  "source": [
    "## Imports"
  ]
},
{
  "cell_type": "code",
  "execution_count": 2,
  "metadata": {
    "id": "BIedd7Pz9sOs"
  },
  "outputs": [],
  "source": [
    "import gymnasium as gym\n",
    "import numpy as np"
  ]
},
{
  "cell_type": "markdown",
  "metadata": {
    "id": "Ae32CtgzTG3R"
  },
  "source": [
    "The first thing you need to import is the RL model, check the documentation to know what you can use on which problem"
  ]
},
{
  "cell_type": "code",
  "execution_count": 3,
  "metadata": {
    "id": "R7tKaBFrTR0a"
  },
  "outputs": [],
  "source": [
    "from stable_baselines3 import PPO"
  ]
},
{
  "cell_type": "markdown",
  "metadata": {
    "id": "-0_8OQbOTTNT"
  },
  "source": [
    "The next thing you need to import is the policy class that will be used to create the networks (for the policy/value functions)."
  ]
},
{
  "cell_type": "code",
  "execution_count": 4,
  "metadata": {
    "id": "ROUJr675TT01",
    "outputId": "d9b83ebb-db28-4dc8-be43-fe0833b323c6"
  },
  "outputs": [
    {
      "output_type": "stream",
      "name": "stderr",
      "text": [
        "/usr/local/lib/python3.10/dist-packages/ipykernel/ipkernel.py:283: DeprecationWarning: `should_run_async` will not call `transform_cell` automatically in the future. Please pass the result to `transformed_cell` argument and any exception that happen during thetransform in `preprocessing_exc_tuple` in IPython 7.17 and above.\n",
        "  and should_run_async(code)\n"
      ]
    }
  ],
  "source": [
    "from stable_baselines3.ppo.policies import MlpPolicy"
  ]
},
{
  "cell_type": "markdown",
  "metadata": {
    "id": "RapkYvTXL7Cd"
  },
  "source": [
    "## Create the Gym env and instantiate the agent\n",
    "For this example, we will use CartPole environment, a classic control problem."
  ]
},
{
  "cell_type": "code",
  "execution_count": 5,
  "metadata": {
    "colab": {
      "base_uri": "https://localhost:8080/"
    },
    "id": "pUWGZp3i9wyf",
    "outputId": "c516e350-9ae7-4cba-ed99-9f7ec2cb8031"
  },
  "outputs": [],
  "source": [
    "env = gym.make(\"CartPole-v1\")\n",
    "model = PPO(MlpPolicy, env, verbose=0)"
  ]
},
{
  "cell_type": "markdown",
  "metadata": {
    "id": "4efFdrQ7MBvl"
  },
  "source": [
    "We create a helper function to evaluate the agent:"
  ]
},
{
  "cell_type": "code",
  "execution_count": 6,
  "metadata": {
    "id": "63M8mSKR-6Zt"
  },
  "outputs": [],
  "source": [
    "from stable_baselines3.common.base_class import BaseAlgorithm\n",
    "def evaluate(\n",
    "    model: BaseAlgorithm,\n",
    "    num_episodes: int = 100,\n",
    "    deterministic: bool = True,\n",
    ") -> float:\n",
    "    \"\"\"\n",
    "    Evaluate an RL agent for `num_episodes`.\n",
    ":param model: the RL Agent\n",
    ":param env: the gym Environment\n",
    ":param num_episodes: number of episodes to evaluate it\n",
    ":param deterministic: Whether to use deterministic or stochastic actions\n",
    ":return: Mean reward for the last `num_episodes`\n",
    "\"\"\"\n",
    "    vec_env = model.get_env()\n",
    "    obs = vec_env.reset()\n",
    "    all_episode_rewards = []\n",
    "    for _ in range(num_episodes):\n",
    "        episode_rewards = []\n",
    "        done = False\n",
    "        while not done:\n",
    "            action, _states = model.predict(obs, deterministic=deterministic)\n",
    "            obs, reward, done, _info = vec_env.step(action)\n",
    "            episode_rewards.append(reward)\n",
    "        all_episode_rewards.append(sum(episode_rewards))\n",
    "    mean_episode_reward = np.mean(all_episode_rewards)\n",
    "    print(f\"Mean reward: {mean_episode_reward:.2f} - Num episodes: {num_episodes}\")\n",
    "    return mean_episode_reward"
  ]
},
{
  "cell_type": "markdown",
  "metadata": {
    "id": "zjEVOIY8NVeK"
  },
  "source": [
    "Let's evaluate the un-trained agent, this should be a random agent."
  ]
},
{
  "cell_type": "code",
  "execution_count": 7,
  "metadata": {
    "colab": {
      "base_uri": "https://localhost:8080/"
    },
    "id": "xDHLMA6NFk95",
    "outputId": "5566eca1-615b-4eac-b21f-9a13f3e78472"
  },
  "outputs": [
    {
      "output_type": "stream",
      "name": "stdout",
      "text": [
        "Mean reward: 193.08 - Num episodes: 100\n"
      ]
    }
  ],
  "source": [
    "# Random Agent, before training\n",
    "mean_reward_before_train = evaluate(model, num_episodes=100, deterministic=True)"
  ]
},
{
  "cell_type": "markdown",
  "metadata": {
    "id": "QjjPxrwkYJ2i"
  },
  "source": [
    "Stable-Baselines already provides you with that helper:"
  ]
},
{
  "cell_type": "code",
  "execution_count": 8,
  "metadata": {
    "id": "8z6K9YImYJEx"
  },
  "outputs": [],
  "source": [
    "from stable_baselines3.common.evaluation import evaluate_policy"
  ]
},
{
  "cell_type": "code",
  "execution_count": 9,
  "metadata": {
    "colab": {
      "base_uri": "https://localhost:8080/"
    },
    "id": "4oPTHjxyZSOL",
    "outputId": "55061934-32a4-45ad-c429-19bbd14b2ffb"
  },
  "outputs": [
    {
      "output_type": "stream",
      "name": "stdout",
      "text": [
        "mean_reward: 183.54 +/- 48.50\n"
      ]
    }
  ],
  "source": [
    "mean_reward, std_reward = evaluate_policy(model, env, n_eval_episodes=100, warn=False)\n",
    "print(f\"mean_reward: {mean_reward:.2f} +/- {std_reward:.2f}\")"
  ]
},
{
  "cell_type": "markdown",
  "metadata": {
    "id": "r5UoXTZPNdFE"
  },
  "source": [
    "## Train the model"
  ]
},
{
  "cell_type": "code",
  "execution_count": 10,
  "metadata": {
    "id": "e4cfSXIB-pTF",
    "outputId": "1e62b2d7-496c-4ec3-bcea-0316324d7292"
  },
  "outputs": [
    {
      "output_type": "stream",
      "name": "stdout",
      "text": [
        "Training model for 10000 steps...\n",
        "Training complete!\n"
      ]
    },
    {
      "output_type": "execute_result",
      "execution_count": 10,
      "data": {
        "text/plain": [
          "<stable_baselines3.ppo.ppo.PPO at 0x7e26c2bd7010>"
        ]
      }
    }
  ],
  "source": [
    "# Train the agent for 10000 steps\n",
    "model.learn(total_timesteps=10_000)\n"
  ]
},
{
  "cell_type": "markdown",
  "metadata": {
    "id": "6K5PE98aZT1M"
  },
  "source": [
    "## Evaluate the trained agent"
  ]
},
{
  "cell_type": "code",
  "execution_count": 11,
  "metadata": {
    "colab": {
      "base_uri": "https://localhost:8080/"
    },
    "id": "ygl_gVmV_QP7",
    "outputId": "19a2b880-1059-4072-b59d-b5ae5337e781"
  },
  "outputs": [
    {
      "output_type": "stream",
      "name": "stdout",
      "text": [
        "Evaluating trained agent...\n",
        "mean_reward: 403.90 +/- 108.30\n"
      ]
    }
  ],
  "source": [
    "# Evaluate the trained agent\n",
    "mean_reward, std_reward = evaluate_policy(model, env, n_eval_episodes=200)\n",
    "print(f\"mean_reward:{mean_reward:.2f} +/- {std_reward:.2f}\")"
  ]
},
{
  "cell_type": "markdown",
  "metadata": {
    "id": "Pv47MnyPrI4Q"
  },
  "source": [
    "## Let's test the agent after training"
  ]
},
{
  "cell_type": "code",
  "execution_count": 12,
  "metadata": {
    "colab": {
      "base_uri": "https://localhost:8080/"
    },
    "id": "evaluation_result"
  },
  "outputs": [
    {
      "output_type": "stream",
      "name": "stdout",
      "text": [
        "Evaluating trained model...\n",
        "Average reward: 200.50\n"
      ]
    }
  ],
  "source": [
    "# Evaluate trained model\n",
    "mean_reward, std_reward = evaluate_policy(model, env, n_eval_episodes=100)\n",
    "print(f\"Average reward: {mean_reward:.2f}\")"
  ]
}
