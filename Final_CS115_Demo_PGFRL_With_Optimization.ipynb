{
 "cells": [
  {
   "cell_type": "markdown",
   "metadata": {
    "id": "Fxb6_Sc9aLk3"
   },
   "source": [
    "***UIT_CS115*** -\n",
    "***FINAL PROJECT***\n",
    "\n",
    "*GROUP 12 - CS115.P11*\n",
    "\n",
    "_**TOPIC** : POLICY GRADIENT FOR REINFORCEMENT LEARNING_"
   ]
  },
  {
   "cell_type": "markdown",
   "metadata": {
    "id": "jfpPOKB_aVxs"
   },
   "source": [
    "***Insights:***\n",
    "  \n",
    "  Our code choose to implement A2C (Advantage Actor-Critic) algorithm (this can be out-performed by the other algorithms, which also means this algorithm works not so good) to solve this OpenAI CartPole-v1 game."
   ]
  },
  {
   "cell_type": "markdown",
   "metadata": {
    "id": "tBSlOuHCaLk5"
   },
   "source": [
    "***Definition of Actor-Critc:***\n",
    "\n",
    "The Actor-Critic algorithm is a type of **Reinforcement Learning** algorithm that combines aspects of both Policy-based methods (Actor) and Value-based methods (Critic). This hybrid approach is designed to address the limitations of each method when used individually.\n",
    "\n",
    "In the actor-critic framework, an agent (the \"actor\") learns a policy to make decisions, and a value function (the \"Critic\") evaluates the actions taken by the Actor.\n",
    "\n",
    "Simultaneously, the critic evaluates these actions by estimating their value or quality. This dual role allows the method to strike a balance between exploration and exploitation, leveraging the strengths of both policy and value functions."
   ]
  },
  {
   "cell_type": "markdown",
   "metadata": {
    "id": "HX4bGijuAgA-"
   },
   "source": [
    "***Advantage Actor Critic (A2C):***\n",
    "\n",
    "We can stabilize learning further by using the Advantage function as Critic instead of the Action value function.\n",
    "\n",
    "The idea is that the Advantage function calculates how better taking that action at a state is compared to the average value of the state."
   ]
  },
  {
   "cell_type": "markdown",
   "metadata": {
    "id": "YPsr-ZumaLk6"
   },
   "source": [
    "***Include The Essential Library***"
   ]
  },
  {
   "cell_type": "code",
   "execution_count": null,
   "metadata": {
    "colab": {
     "base_uri": "https://localhost:8080/"
    },
    "id": "rGzcNNLa1bP5",
    "outputId": "ba3e87a9-204e-47d1-e204-dc94d13452e0"
   },
   "outputs": [
    {
     "name": "stdout",
     "output_type": "stream",
     "text": [
      "Collecting gymnasium\n",
      "  Downloading gymnasium-1.0.0-py3-none-any.whl.metadata (9.5 kB)\n",
      "Requirement already satisfied: numpy>=1.21.0 in /usr/local/lib/python3.10/dist-packages (from gymnasium) (1.26.4)\n",
      "Requirement already satisfied: cloudpickle>=1.2.0 in /usr/local/lib/python3.10/dist-packages (from gymnasium) (3.1.0)\n",
      "Requirement already satisfied: typing-extensions>=4.3.0 in /usr/local/lib/python3.10/dist-packages (from gymnasium) (4.12.2)\n",
      "Collecting farama-notifications>=0.0.1 (from gymnasium)\n",
      "  Downloading Farama_Notifications-0.0.4-py3-none-any.whl.metadata (558 bytes)\n",
      "Downloading gymnasium-1.0.0-py3-none-any.whl (958 kB)\n",
      "\u001b[2K   \u001b[90m━━━━━━━━━━━━━━━━━━━━━━━━━━━━━━━━━━━━━━━━\u001b[0m \u001b[32m958.1/958.1 kB\u001b[0m \u001b[31m16.7 MB/s\u001b[0m eta \u001b[36m0:00:00\u001b[0m\n",
      "\u001b[?25hDownloading Farama_Notifications-0.0.4-py3-none-any.whl (2.5 kB)\n",
      "Installing collected packages: farama-notifications, gymnasium\n",
      "Successfully installed farama-notifications-0.0.4 gymnasium-1.0.0\n"
     ]
    }
   ],
   "source": [
    "!pip install gymnasium\n"
   ]
  },
  {
   "cell_type": "code",
   "execution_count": 2,
   "metadata": {
    "id": "G980689vaLk6"
   },
   "outputs": [],
   "source": [
    "import argparse\n",
    "import gymnasium as gym\n",
    "import numpy as np\n",
    "from itertools import count\n",
    "from collections import namedtuple\n",
    "\n",
    "import matplotlib.pyplot as plt\n",
    "import torch\n",
    "import torch.nn as nn\n",
    "import torch.nn.functional as F\n",
    "import torch.optim as optim\n",
    "from torch.distributions import Categorical\n",
    "\n",
    "import matplotlib.pyplot as plt\n",
    "import os\n"
   ]
  },
  {
   "cell_type": "markdown",
   "metadata": {
    "id": "_NvM4cmcaLk7"
   },
   "source": [
    "***Make CartPole-v1 Environment using OpenAI Gym***"
   ]
  },
  {
   "cell_type": "code",
   "execution_count": 3,
   "metadata": {
    "colab": {
     "base_uri": "https://localhost:8080/"
    },
    "id": "sMYmEY5xaLk7",
    "outputId": "ebfeadb8-8d3b-400f-e89b-af5c66f03261"
   },
   "outputs": [
    {
     "data": {
      "text/plain": [
       "(array([-0.01345971, -0.03485594,  0.04820444,  0.00184891], dtype=float32),\n",
       " {})"
      ]
     },
     "execution_count": 3,
     "metadata": {},
     "output_type": "execute_result"
    }
   ],
   "source": [
    "# Define a named tuple to store saved actions\n",
    "SavedAction = namedtuple('SavedAction', ['log_prob', 'value', 'state', 'action'])\n",
    "\n",
    "# Create the CartPole environment with human render mode\n",
    "env = gym.make('CartPole-v1', render_mode= None)\n",
    "\n",
    "# Reset the environment to get the initial state\n",
    "env.reset()\n"
   ]
  },
  {
   "cell_type": "markdown",
   "metadata": {
    "id": "C4dsMTG5aLk7"
   },
   "source": [
    "***Implement Model Using Actor-Critic Method***"
   ]
  },
  {
   "cell_type": "markdown",
   "metadata": {},
   "source": [
    "We think our model is Overfit to the Training data; however, it turns out to be advanced when we try to implements techniques such as Parallel Environments, Gradient Clipping and Entropy Loss. We tried hard and comprehended those techniques but the reason why it is so hard comes to the shortage ability of coding and comprehension of library such as PyTorch, Gymnasium or Stable Baselines3"
   ]
  },
  {
   "cell_type": "code",
   "execution_count": null,
   "metadata": {
    "id": "Wrig4GwG5ywy"
   },
   "outputs": [],
   "source": [
    "class Policy(nn.Module):\n",
    "    \"\"\"\n",
    "    implements both actor and critic in one model\n",
    "    \"\"\"\n",
    "    def __init__(self):\n",
    "        super(Policy, self).__init__()\n",
    "        self.affine1 = nn.Linear(4, 128)\n",
    "        torch.nn.init.kaiming_uniform_(self.affine1.weight, a=0, mode='fan_in', nonlinearity='relu', generator=None)\n",
    "\n",
    "        # actor's layer\n",
    "        self.action_head = nn.Linear(128, 2)\n",
    "\n",
    "        # critic's layer\n",
    "        self.value_head = nn.Linear(128, 1)\n",
    "\n",
    "        # action & reward buffer\n",
    "        self.saved_actions = []\n",
    "        self.rewards = []\n",
    "\n",
    "    def forward(self, x):\n",
    "        \"\"\"\n",
    "        forward of both actor and critic\n",
    "        \"\"\"\n",
    "        x = F.relu(self.affine1(x))\n",
    "\n",
    "        # actor: choses action to take from state s_t\n",
    "        # by returning probability of each action\n",
    "        action_prob = F.softmax(self.action_head(x), dim=-1)\n",
    "\n",
    "        # critic: evaluates being in the state s_t\n",
    "        state_values = self.value_head(x)\n",
    "\n",
    "        # return values for both actor and critic as a tuple of 2 values:\n",
    "        # 1. a list with the probability of each action over the action space\n",
    "        # 2. the value from state s_t\n",
    "        return action_prob, state_values\n",
    "\n",
    "    def predict(self, observation, deterministic=True):\n",
    "        \"\"\"Given an observation, return the predicted action\"\"\"\n",
    "        if observation.ndimension() == 1:\n",
    "            observation = observation.unsqueeze(0)  # Add batch dimension if needed\n",
    "\n",
    "        with torch.no_grad():\n",
    "            action_probs, _ = self(observation)  # Get action probabilities and state value\n",
    "\n",
    "        if deterministic:\n",
    "            action = torch.argmax(action_probs, dim=-1).item()  # Use the action with the highest probability\n",
    "        else:\n",
    "            action = torch.multinomial(action_probs, num_samples=1).item()  # Sample a random action\n",
    "\n",
    "        return action\n"
   ]
  },
  {
   "cell_type": "markdown",
   "metadata": {
    "id": "_LfWbvkBaLk8"
   },
   "source": [
    "***Select Action Function***"
   ]
  },
  {
   "cell_type": "code",
   "execution_count": 6,
   "metadata": {
    "id": "ueZbLMt7aLk8"
   },
   "outputs": [],
   "source": [
    "def select_action(state):\n",
    "    \"\"\"Given a state, return the action to take\"\"\"\n",
    "    # Convert the state from a numpy array to a PyTorch tensor and add a batch dimension\n",
    "    state = torch.from_numpy(state).float().unsqueeze(0)\n",
    "\n",
    "    # Pass the state through the model to get action probabilities and state value\n",
    "    probs, state_value = model(state)\n",
    "\n",
    "    # Create a categorical distribution based on the action probabilities\n",
    "    m = Categorical(probs)\n",
    "\n",
    "    # Sample an action from the distribution\n",
    "    action = m.sample()\n",
    "\n",
    "    # Save the log probability of the action, the state value, the state, and the action\n",
    "    model.saved_actions.append(SavedAction(m.log_prob(action), state_value, state, action.item()))\n",
    "\n",
    "    # Return the sampled action as an integer\n",
    "    return action.item()\n"
   ]
  },
  {
   "cell_type": "markdown",
   "metadata": {
    "id": "uKNXg7joaLk8"
   },
   "source": [
    "***Finish Episode***"
   ]
  },
  {
   "cell_type": "code",
   "execution_count": null,
   "metadata": {
    "id": "8wLJu9WOaLk9"
   },
   "outputs": [],
   "source": [
    "def finish_episode():\n",
    "    \"\"\"\n",
    "    Training code. Calculates actor and critic loss and performs backprop.\n",
    "    \"\"\"\n",
    "    R = 0\n",
    "    saved_actions = model.saved_actions\n",
    "    policy_losses = [] # list to save actor (policy) loss\n",
    "    value_losses = [] # list to save critic (value) loss\n",
    "    returns = [] # list to save the true values\n",
    "\n",
    "    # calculate the true value using rewards returned from the environment\n",
    "    for r in model.rewards[::-1]:\n",
    "        # calculate the discounted value\n",
    "        R = r + 0.99 * R\n",
    "        returns.insert(0, R)\n",
    "\n",
    "    returns = torch.tensor(returns)\n",
    "    returns = (returns - returns.mean()) / (returns.std() + eps)\n",
    "\n",
    "    for (log_prob, value,_,_), R in zip(saved_actions, returns):\n",
    "        advantage = R - value.item()\n",
    "\n",
    "        # calculate actor (policy) loss\n",
    "        policy_losses.append(-log_prob * advantage)\n",
    "\n",
    "        # calculate critic (value) loss using L1 smooth loss\n",
    "        value_losses.append(F.smooth_l1_loss(value, torch.tensor([R])))\n",
    "\n",
    "    # reset gradients\n",
    "    optimizer.zero_grad()\n",
    "\n",
    "    # sum up all the values of policy_losses and value_losses\n",
    "    loss = torch.stack(policy_losses).sum() + torch.stack(value_losses).sum()\n",
    "\n",
    "    # perform backprop\n",
    "    loss.backward()\n",
    "    optimizer.step()\n",
    "\n",
    "    # reset rewards and action buffer\n",
    "    del model.rewards[:]\n",
    "    del model.saved_actions[:]\n"
   ]
  },
  {
   "cell_type": "markdown",
   "metadata": {
    "id": "rKaqOuEJaLk9"
   },
   "source": [
    "***Plotting Rewards***"
   ]
  },
  {
   "cell_type": "code",
   "execution_count": 8,
   "metadata": {
    "id": "lFfcGT3TaLk9"
   },
   "outputs": [],
   "source": [
    "def plot_rewards(episode_rewards, average_rewards):\n",
    "    # Plotting the episode rewards\n",
    "    plt.figure(figsize=(12, 6))\n",
    "\n",
    "    # Generate episode numbers for the x-axis\n",
    "    episodes = range(1, len(episode_rewards) + 1)\n",
    "\n",
    "    # Plot average reward over episodes\n",
    "    plt.plot(episodes, average_rewards, label='Average Reward', color='orange')  # Plot average rewards against episode numbers\n",
    "    plt.xlabel('Episode')  # Set x-axis label\n",
    "    plt.ylabel('Average Reward')  # Set y-axis label\n",
    "    plt.title('Average Training Reward Over Episodes')  # Set plot title\n",
    "    plt.legend()  # Add legend to the plot\n",
    "\n",
    "    # Get the current working directory (folder where the script is running)\n",
    "    current_directory = os.getcwd()\n",
    "    # Define the file path where the plot will be saved\n",
    "    file_path = os.path.join(current_directory, 'training_rewards_plot.png')\n",
    "\n",
    "    # Save the plot as a PNG file in the current directory\n",
    "    plt.tight_layout()\n",
    "    plt.savefig(file_path)  # Save plot to current directory\n",
    "    print(f\"Plot saved at: {file_path}\")\n"
   ]
  },
  {
   "cell_type": "markdown",
   "metadata": {
    "id": "f2yRnvjlaLk9"
   },
   "source": [
    "***Model Saving Function***"
   ]
  },
  {
   "cell_type": "code",
   "execution_count": 9,
   "metadata": {
    "id": "avgU26hvaLk9"
   },
   "outputs": [],
   "source": [
    "def save_model(model, filename=\"model.pth\"):\n",
    "    torch.save(model.state_dict(), filename) # Save the model state dictionary to the specified file\n"
   ]
  },
  {
   "cell_type": "markdown",
   "metadata": {
    "id": "Yi2NpC7bw1uj"
   },
   "source": [
    "***Method To Evaluate Our Custom Actor-Critic Model***"
   ]
  },
  {
   "cell_type": "code",
   "execution_count": 25,
   "metadata": {
    "id": "V-5h4ywGvmVh"
   },
   "outputs": [],
   "source": [
    "from typing import Optional, Callable, Any, Union\n",
    "\n",
    "def evaluate_my_model(\n",
    "    model: \"Policy\",  # Type hint for your model\n",
    "    env: gym.Env,\n",
    "    n_eval_episodes: int = 10,\n",
    "    deterministic: bool = False,\n",
    "    render: bool = False,\n",
    "    callback: Optional[Callable[[dict[str, Any], dict[str, Any]], None]] = None,\n",
    "    reward_threshold: Optional[float] = None,\n",
    "    return_episode_rewards: bool = False,\n",
    ") -> Union[tuple[float, float], tuple[list[float], list[int]]]:\n",
    "    \"\"\"\n",
    "    Runs policy for `n_eval_episodes` episodes and returns the mean reward and standard deviation.\n",
    "    Optionally, you can render the environment, use callbacks, and return detailed rewards and episode lengths.\n",
    "    \"\"\"\n",
    "\n",
    "    # Store rewards and lengths for each episode\n",
    "    episode_rewards = []\n",
    "    episode_lengths = []\n",
    "\n",
    "    # Reset environment and initialize variables\n",
    "    obs = env.reset()\n",
    "    episode_reward = 0\n",
    "    episode_length = 0\n",
    "    done = False\n",
    "\n",
    "    # Run evaluation for `n_eval_episodes`\n",
    "    for episode in range(n_eval_episodes):\n",
    "        episode_reward = 0\n",
    "        episode_length = 0\n",
    "        done = False\n",
    "        while(1):\n",
    "            # Ensure the observation is in the correct shape for the model\n",
    "            if isinstance(obs, tuple):  # Some environments may return a tuple of observation + info\n",
    "                obs = obs[0]\n",
    "            obs_tensor = torch.tensor(obs, dtype=torch.float32).unsqueeze(0)\n",
    "\n",
    "            # Get action from the model (use the model directly which calls `forward`)\n",
    "            action = model.predict(obs_tensor, deterministic)\n",
    "\n",
    "            # Step the environment with the action\n",
    "            obs, reward, terminated, truncated, info = env.step(action)\n",
    "            done = terminated or truncated\n",
    "\n",
    "            episode_reward += reward\n",
    "            episode_length += 1\n",
    "\n",
    "            if done:  # If episode is done\n",
    "                break  # Exit the loop\n",
    "\n",
    "\n",
    "        episode_rewards.append(episode_reward)  # Store the total reward for this episode\n",
    "        episode_lengths.append(episode_length)  # Store the length of this episode\n",
    "\n",
    "    # Calculate mean and std of rewards across all episodes\n",
    "    mean_reward = np.mean(episode_rewards)\n",
    "    std_reward = np.std(episode_rewards)\n",
    "\n",
    "    if reward_threshold is not None:\n",
    "        assert mean_reward > reward_threshold, f\"Mean reward below threshold: {mean_reward:.2f} < {reward_threshold:.2f}\"\n",
    "\n",
    "    # Return either the mean reward or detailed episode data\n",
    "    if return_episode_rewards:\n",
    "        return episode_rewards, episode_lengths\n",
    "\n",
    "    return mean_reward, std_reward\n"
   ]
  },
  {
   "cell_type": "markdown",
   "metadata": {
    "id": "Cr2LXbzvaLk9"
   },
   "source": [
    "***Train Policy Model***"
   ]
  },
  {
   "cell_type": "code",
   "execution_count": 17,
   "metadata": {
    "id": "BfaElz9MaLk8"
   },
   "outputs": [],
   "source": [
    "# Instantiate the Policy model\n",
    "model = Policy()\n",
    "\n",
    "# Create the Adam optimizer with the model parameters, learning rate of 0.03, and weight decay of 0.01\n",
    "optimizer = optim.Adam(model.parameters(), lr=3e-2, weight_decay=0.01)\n",
    "\n",
    "# Get the smallest positive number such that 1.0 + eps != 1.0 for float32\n",
    "eps = np.finfo(np.float32).eps.item()\n"
   ]
  },
  {
   "cell_type": "code",
   "execution_count": 21,
   "metadata": {
    "colab": {
     "base_uri": "https://localhost:8080/",
     "height": 1000
    },
    "id": "97ve4Q1_aLk9",
    "outputId": "97053a5b-816d-4fa4-c622-44e97739df5b"
   },
   "outputs": [
    {
     "name": "stderr",
     "output_type": "stream",
     "text": [
      "<ipython-input-19-9dba530ae68b>:27: UserWarning: Using a target size (torch.Size([1])) that is different to the input size (torch.Size([1, 1])). This will likely lead to incorrect results due to broadcasting. Please ensure they have the same size.\n",
      "  value_losses.append(F.smooth_l1_loss(value, torch.tensor([R])))\n"
     ]
    },
    {
     "name": "stdout",
     "output_type": "stream",
     "text": [
      "Episode 10\tReward: 10.00\tAverage reward: 0.98\n",
      "Episode 20\tReward: 9.00\tAverage reward: 0.49\n",
      "Episode 30\tReward: 10.00\tAverage reward: 0.32\n",
      "Episode 40\tReward: 10.00\tAverage reward: 0.24\n",
      "Episode 50\tReward: 9.00\tAverage reward: 0.19\n",
      "Episode 60\tReward: 8.00\tAverage reward: 0.16\n",
      "Episode 70\tReward: 9.00\tAverage reward: 0.14\n",
      "Episode 80\tReward: 9.00\tAverage reward: 0.12\n",
      "Episode 90\tReward: 10.00\tAverage reward: 0.11\n",
      "Episode 100\tReward: 10.00\tAverage reward: 0.09\n",
      "Episode 110\tReward: 8.00\tAverage reward: 0.09\n",
      "Episode 120\tReward: 8.00\tAverage reward: 0.08\n",
      "Episode 130\tReward: 12.00\tAverage reward: 0.07\n",
      "Episode 140\tReward: 10.00\tAverage reward: 0.09\n",
      "Episode 150\tReward: 9.00\tAverage reward: 0.08\n",
      "Episode 160\tReward: 10.00\tAverage reward: 0.07\n",
      "Episode 170\tReward: 22.00\tAverage reward: 0.08\n",
      "Episode 180\tReward: 15.00\tAverage reward: 0.08\n",
      "Episode 190\tReward: 28.00\tAverage reward: 0.08\n",
      "Episode 200\tReward: 21.00\tAverage reward: 0.11\n",
      "Episode 210\tReward: 61.00\tAverage reward: 0.17\n",
      "Episode 220\tReward: 132.00\tAverage reward: 0.24\n",
      "Episode 230\tReward: 35.00\tAverage reward: 0.21\n",
      "Episode 240\tReward: 500.00\tAverage reward: 0.46\n",
      "Episode 250\tReward: 53.00\tAverage reward: 0.47\n",
      "Episode 260\tReward: 8.00\tAverage reward: 0.31\n",
      "Episode 270\tReward: 15.00\tAverage reward: 0.21\n",
      "Episode 280\tReward: 11.00\tAverage reward: 0.16\n",
      "Episode 290\tReward: 17.00\tAverage reward: 0.11\n",
      "Episode 300\tReward: 9.00\tAverage reward: 0.08\n",
      "Episode 310\tReward: 10.00\tAverage reward: 0.06\n",
      "Episode 320\tReward: 10.00\tAverage reward: 0.05\n",
      "Episode 330\tReward: 10.00\tAverage reward: 0.04\n",
      "Episode 340\tReward: 13.00\tAverage reward: 0.04\n",
      "Episode 350\tReward: 11.00\tAverage reward: 0.04\n",
      "Episode 360\tReward: 12.00\tAverage reward: 0.03\n",
      "Episode 370\tReward: 60.00\tAverage reward: 0.05\n",
      "Episode 380\tReward: 52.00\tAverage reward: 0.09\n",
      "Episode 390\tReward: 22.00\tAverage reward: 0.15\n",
      "Episode 400\tReward: 154.00\tAverage reward: 0.21\n",
      "Episode 410\tReward: 131.00\tAverage reward: 0.25\n",
      "Episode 420\tReward: 180.00\tAverage reward: 0.27\n",
      "Episode 430\tReward: 215.00\tAverage reward: 0.33\n",
      "Episode 440\tReward: 355.00\tAverage reward: 0.43\n",
      "Episode 450\tReward: 206.00\tAverage reward: 0.49\n",
      "Episode 460\tReward: 235.00\tAverage reward: 0.48\n",
      "Episode 470\tReward: 277.00\tAverage reward: 0.50\n",
      "Episode 480\tReward: 475.00\tAverage reward: 0.62\n",
      "Episode 490\tReward: 392.00\tAverage reward: 0.72\n",
      "Episode 500\tReward: 500.00\tAverage reward: 0.78\n",
      "Episode 510\tReward: 217.00\tAverage reward: 0.69\n",
      "Episode 520\tReward: 155.00\tAverage reward: 0.55\n",
      "Episode 530\tReward: 151.00\tAverage reward: 0.45\n",
      "Episode 540\tReward: 168.00\tAverage reward: 0.39\n",
      "Episode 550\tReward: 189.00\tAverage reward: 0.36\n",
      "Episode 560\tReward: 248.00\tAverage reward: 0.38\n",
      "Episode 570\tReward: 317.00\tAverage reward: 0.43\n",
      "Episode 580\tReward: 500.00\tAverage reward: 0.58\n",
      "Episode 590\tReward: 500.00\tAverage reward: 0.68\n",
      "Episode 600\tReward: 500.00\tAverage reward: 0.74\n",
      "Episode 610\tReward: 500.00\tAverage reward: 0.76\n",
      "Solved! Running reward is now 475.9038996028842 and the last episode runs to 499 time steps!\n",
      "Plot saved at: /content/training_rewards_plot.png\n"
     ]
    },
    {
     "data": {
      "image/png": "[encoded data removed]",
      "text/plain": [
       "<Figure size 1200x600 with 1 Axes>"
      ]
     },
     "metadata": {},
     "output_type": "display_data"
    }
   ],
   "source": [
    "def main():\n",
    "    running_reward = 10  # Initialize running reward\n",
    "    episode_rewards = []  # Initialize list to store episode rewards\n",
    "    average_rewards = []  # Initialize list to store average rewards\n",
    "    done = False\n",
    "    t = 0\n",
    "\n",
    "    for i_episode in count(1):  # Infinite loop to run episodes\n",
    "\n",
    "        state, _ = env.reset()  # Reset environment and get initial state\n",
    "        state = np.array(state)  # Convert state to numpy array\n",
    "\n",
    "        ep_reward = 0  # Initialize episode reward\n",
    "\n",
    "        while(1):  # Loop for each time step in the episode\n",
    "            action = select_action(state)  # Select action based on current state\n",
    "            state, reward, terminated, truncated, info = env.step(action)\n",
    "            done = terminated or truncated\n",
    "            # env.render()  # Render the environment\n",
    "            model.rewards.append(reward)  # Store reward\n",
    "            ep_reward += reward  # Accumulate episode reward\n",
    "            if done:  # If episode is done\n",
    "                break  # Exit the loop\n",
    "            t+=1\n",
    "\n",
    "        running_reward = 0.05 * ep_reward + (1 - 0.05) * running_reward  # Update running reward\n",
    "\n",
    "        average_rewards.append(running_reward)  # Append running reward to list\n",
    "        episode_rewards.append(ep_reward)  # Append episode reward to list\n",
    "\n",
    "        finish_episode()  # Perform end of episode tasks\n",
    "\n",
    "        log_interval = 10  # Set log interval\n",
    "        if i_episode % log_interval == 0:  # If current episode is at log interval\n",
    "            print(f'Episode {i_episode}\\tReward: {ep_reward:.2f}\\tAverage reward: {running_reward/i_episode:.2f}')  # Print episode and reward info\n",
    "\n",
    "        if running_reward > env.spec.reward_threshold:  # If running reward exceeds threshold\n",
    "            print(f\"Solved! Running reward is now {running_reward} and the last episode runs to {t} time steps!\")  # Print solved message\n",
    "            break\n",
    "        t = 0\n",
    "\n",
    "\n",
    "    save_model(model, filename=\"trained_model.pth\") # Save the trained model\n",
    "    # Plot the rewards over time after training is done\n",
    "    plot_rewards(episode_rewards, average_rewards) # Plot the rewards over time\n",
    "\n",
    "if __name__ == '__main__':\n",
    "    main()  # Run the main function\n"
   ]
  },
  {
   "cell_type": "markdown",
   "metadata": {
    "id": "vLssB_e3yCAo"
   },
   "source": [
    "***Evaluate Our Model***"
   ]
  },
  {
   "cell_type": "code",
   "execution_count": 26,
   "metadata": {
    "colab": {
     "base_uri": "https://localhost:8080/"
    },
    "id": "jl6z5jZbxQct",
    "outputId": "a4291a88-1244-4834-d7a4-b53e073e05fc"
   },
   "outputs": [
    {
     "name": "stdout",
     "output_type": "stream",
     "text": [
      "mean_reward:50.90 +/- 149.70\n"
     ]
    }
   ],
   "source": [
    "mean_reward, std_reward = evaluate_my_model(model, env, n_eval_episodes=10,deterministic=True) # Evaluate the model for 10 episodes\n",
    "\n",
    "print(f\"mean_reward:{mean_reward:.2f} +/- {std_reward:.2f}\") # Print the mean and standard deviation of the rewards\n"
   ]
  },
  {
   "cell_type": "code",
   "execution_count": null,
   "metadata": {
    "colab": {
     "base_uri": "https://localhost:8080/",
     "height": 472
    },
    "id": "jNZoYo3jvoma",
    "outputId": "10bee8c2-18ef-4d1c-c693-1434d0406bc0"
   },
   "outputs": [
    {
     "data": {
      "image/png": "[encoded data removed]",
      "text/plain": [
       "<Figure size 640x480 with 1 Axes>"
      ]
     },
     "metadata": {},
     "output_type": "display_data"
    }
   ],
   "source": [
    "# Evaluate the policy and store episode rewards\n",
    "episode_rewards, episode_lengths = evaluate_my_model(model, env, n_eval_episodes=10,deterministic=True, return_episode_rewards=True)\n",
    "\n",
    "# Calculate average reward over episodes\n",
    "average_rewards = np.cumsum(episode_rewards) / np.arange(1, len(episode_rewards) + 1)\n",
    "\n",
    "# Plot average reward over episodes\n",
    "plt.plot(average_rewards)\n",
    "plt.xlabel(\"Episode\")\n",
    "plt.ylabel(\"Average Reward\")\n",
    "plt.title(\"Average Reward over Episodes (Evaluation) For Custom A-C Model\")\n",
    "plt.show()\n"
   ]
  },
  {
   "cell_type": "markdown",
   "metadata": {
    "id": "XvwddrG4aLk-"
   },
   "source": [
    "# ***PPO Algorithm From Stable Baselines3 Library***"
   ]
  },
  {
   "cell_type": "markdown",
   "metadata": {
    "id": "7pSHur6PaLk-"
   },
   "source": [
    "# Proximal Policy Optimization (PPO) for CartPole-v1\n",
    "\n",
    "***Proximal Policy Optimization (PPO)*** is a reinforcement learning algorithm known for:\n",
    "- Stability: Clipped updates prevent drastic policy changes.\n",
    "- Simplicity: Easier to tune than other advanced algorithms.\n",
    "- Efficiency: Works well in both discrete and continuous environments.\n",
    "\n",
    "In this example, we use PPO with the `CartPole-v1` environment, where the goal is to balance a pole on a moving cart.\n"
   ]
  },
  {
   "cell_type": "code",
   "execution_count": null,
   "metadata": {
    "id": "X64fKiDPaLk-"
   },
   "outputs": [],
   "source": [
    "!pip install \"stable-baselines3[extra]>=2.0.0a4\"  # Install the latest stable-baselines3 version\n"
   ]
  },
  {
   "cell_type": "code",
   "execution_count": 29,
   "metadata": {
    "id": "KgYRI4dOaLk-"
   },
   "outputs": [],
   "source": [
    "from stable_baselines3 import PPO # Import the PPO model\n",
    "from stable_baselines3.ppo.policies import MlpPolicy # Import the policy module\n",
    "from stable_baselines3.common.evaluation import evaluate_policy # Import the evaluation module\n"
   ]
  },
  {
   "cell_type": "code",
   "execution_count": 30,
   "metadata": {
    "colab": {
     "base_uri": "https://localhost:8080/"
    },
    "id": "R5BTbtLnaLk-",
    "outputId": "9af25a1c-213b-4fd3-9b86-825f7428d1a5"
   },
   "outputs": [
    {
     "name": "stderr",
     "output_type": "stream",
     "text": [
      "/usr/local/lib/python3.10/dist-packages/stable_baselines3/common/on_policy_algorithm.py:150: UserWarning: You are trying to run PPO on the GPU, but it is primarily intended to run on the CPU when not using a CNN policy (you are using ActorCriticPolicy which should be a MlpPolicy). See https://github.com/DLR-RM/stable-baselines3/issues/1245 for more info. You can pass `device='cpu'` or `export CUDA_VISIBLE_DEVICES=` to force using the CPU.Note: The model will train, but the GPU utilization will be poor and the training might take longer than on CPU.\n",
      "  warnings.warn(\n"
     ]
    },
    {
     "data": {
      "text/plain": [
       "<stable_baselines3.ppo.ppo.PPO at 0x7f2d44904700>"
      ]
     },
     "execution_count": 30,
     "metadata": {},
     "output_type": "execute_result"
    }
   ],
   "source": [
    "model_PPO = PPO(MlpPolicy, env, verbose=0) # Instantiate the PPO model with the MlpPolicy and the CartPole environment\n",
    "model_PPO.learn(total_timesteps=100000) # Train the model for 100,000 time steps\n"
   ]
  },
  {
   "cell_type": "code",
   "execution_count": 31,
   "metadata": {
    "colab": {
     "base_uri": "https://localhost:8080/"
    },
    "id": "lYQ-RRalaLk-",
    "outputId": "40de7593-b79b-4c4c-e3fa-5a11f5114958"
   },
   "outputs": [
    {
     "name": "stderr",
     "output_type": "stream",
     "text": [
      "/usr/local/lib/python3.10/dist-packages/stable_baselines3/common/evaluation.py:67: UserWarning: Evaluation environment is not wrapped with a ``Monitor`` wrapper. This may result in reporting modified episode lengths and rewards, if other wrappers happen to modify these. Consider wrapping environment first with ``Monitor`` wrapper.\n",
      "  warnings.warn(\n"
     ]
    },
    {
     "name": "stdout",
     "output_type": "stream",
     "text": [
      "mean_reward:500.00 +/- 0.00\n"
     ]
    }
   ],
   "source": [
    "mean_reward, std_reward = evaluate_policy(model_PPO, env, n_eval_episodes=10) # Evaluate the model for 200 episodes\n",
    "\n",
    "print(f\"mean_reward:{mean_reward:.2f} +/- {std_reward:.2f}\") # Print the mean and standard deviation of the rewards\n"
   ]
  },
  {
   "cell_type": "code",
   "execution_count": null,
   "metadata": {
    "colab": {
     "base_uri": "https://localhost:8080/",
     "height": 472
    },
    "id": "17UkYeTxmQi6",
    "outputId": "033dc708-4bb6-49d0-97d5-96e0f9130a5c"
   },
   "outputs": [
    {
     "data": {
      "image/png": "[encoded data removed]",
      "text/plain": [
       "<Figure size 640x480 with 1 Axes>"
      ]
     },
     "metadata": {},
     "output_type": "display_data"
    }
   ],
   "source": [
    "# Evaluate the policy and store episode rewards\n",
    "episode_rewards, episode_lengths = evaluate_policy(model_PPO, env, n_eval_episodes=10, return_episode_rewards=True)\n",
    "\n",
    "# Calculate average reward over episodes\n",
    "average_rewards = np.cumsum(episode_rewards) / np.arange(1, len(episode_rewards) + 1)\n",
    "\n",
    "# Plot average reward over episodes\n",
    "plt.plot(average_rewards)\n",
    "plt.xlabel(\"Episode\")\n",
    "plt.ylabel(\"Average Reward\")\n",
    "plt.title(\"Average Reward over Episodes (Evaluation) For PPO Model\")\n",
    "plt.show()\n"
   ]
  },
  {
   "cell_type": "markdown",
   "metadata": {
    "id": "lB2TJxLQaLk-"
   },
   "source": [
    "# ***DQN Algorithm From Stable Baselines3 Library***"
   ]
  },
  {
   "cell_type": "markdown",
   "metadata": {
    "id": "xvEBG9BvaLk-"
   },
   "source": [
    "# DQN (Deep Q-Network) Overview  \n",
    "DQN is a **value-based** algorithm in Reinforcement Learning.\n",
    "\n",
    "## **Nature of DQN:**\n",
    "\n",
    "- **Value-based:** It focuses on approximating the Q(s, a) function, which represents the expected cumulative reward when taking action `a` in state `s` and following the optimal policy afterward.\n",
    "- Actions are selected based on the Q-function:\n",
    "  - `a = argmax_a Q(s, a)`\n",
    "  - This means DQN always chooses the action `a` that maximizes the Q-value.\n",
    "\n",
    "## **Compared to Policy-based Algorithms:**\n",
    "\n",
    "- DQN does not learn a policy (mapping from states to actions) directly, as policy-based methods like PPO or REINFORCE do.\n",
    "- Instead, it indirectly derives the policy through the Q(s, a) values.\n",
    "\n",
    "## **In CartPole:**\n",
    "\n",
    "DQN struggles because:\n",
    "\n",
    "- The continuous state space makes it hard to approximate Q(s, a) effectively.\n",
    "- It lacks the responsiveness required for environments demanding quick and precise policy decisions, like CartPole.\n"
   ]
  },
  {
   "cell_type": "code",
   "execution_count": null,
   "metadata": {
    "id": "JdO3_ulbaLk-"
   },
   "outputs": [],
   "source": [
    "from stable_baselines3 import DQN # Import the DQN model\n"
   ]
  },
  {
   "cell_type": "code",
   "execution_count": 34,
   "metadata": {
    "colab": {
     "base_uri": "https://localhost:8080/"
    },
    "id": "mOLfTSl8aLk-",
    "outputId": "1ea65b3a-0487-43ce-e1ce-3b11d2491573"
   },
   "outputs": [
    {
     "data": {
      "text/plain": [
       "<stable_baselines3.dqn.dqn.DQN at 0x7f2d449064d0>"
      ]
     },
     "execution_count": 34,
     "metadata": {},
     "output_type": "execute_result"
    }
   ],
   "source": [
    "model_DQN = DQN(\"MlpPolicy\", env, verbose=0)\n",
    "model_DQN.learn(total_timesteps=100000)\n"
   ]
  },
  {
   "cell_type": "code",
   "execution_count": 35,
   "metadata": {
    "colab": {
     "base_uri": "https://localhost:8080/"
    },
    "id": "W7QvuhWqaLk_",
    "outputId": "f5fb73bf-2545-4692-b8de-bea545d93588"
   },
   "outputs": [
    {
     "name": "stdout",
     "output_type": "stream",
     "text": [
      "mean_reward:238.00 +/- 19.48\n"
     ]
    }
   ],
   "source": [
    "mean_reward, std_reward = evaluate_policy(model_DQN, env, n_eval_episodes=10) # Evaluate the model for 200 episodes\n",
    "print(f\"mean_reward:{mean_reward:.2f} +/- {std_reward:.2f}\") # Print the mean and standard deviation of the rewards\n"
   ]
  },
  {
   "cell_type": "code",
   "execution_count": null,
   "metadata": {
    "colab": {
     "base_uri": "https://localhost:8080/",
     "height": 472
    },
    "id": "3jc16HjfmBh-",
    "outputId": "90f3ae70-5232-4136-a1eb-87c9084d8e85"
   },
   "outputs": [
    {
     "data": {
      "image/png": "[encoded data removed]",
      "text/plain": [
       "<Figure size 640x480 with 1 Axes>"
      ]
     },
     "metadata": {},
     "output_type": "display_data"
    }
   ],
   "source": [
    "# Evaluate the policy and store episode rewards\n",
    "episode_rewards, episode_lengths = evaluate_policy(model_DQN, env, n_eval_episodes=10, return_episode_rewards=True)\n",
    "\n",
    "# Calculate average reward over episodes\n",
    "average_rewards = np.cumsum(episode_rewards) / np.arange(1, len(episode_rewards) + 1)\n",
    "\n",
    "# Plot average reward over episodes\n",
    "plt.plot(average_rewards)\n",
    "plt.xlabel(\"Episode\")\n",
    "plt.ylabel(\"Average Reward\")\n",
    "plt.title(\"Average Reward over Episodes (Evaluation) For DQN Model\")\n",
    "plt.show()\n"
   ]
  }
 ],
 "metadata": {
  "accelerator": "GPU",
  "colab": {
   "gpuType": "T4",
   "provenance": []
  },
  "kernelspec": {
   "display_name": "Python 3",
   "name": "python3"
  },
  "language_info": {
   "codemirror_mode": {
    "name": "ipython",
    "version": 3
   },
   "file_extension": ".py",
   "mimetype": "text/x-python",
   "name": "python",
   "nbconvert_exporter": "python",
   "pygments_lexer": "ipython3",
   "version": "3.12.4"
  }
 },
 "nbformat": 4,
 "nbformat_minor": 0
}
